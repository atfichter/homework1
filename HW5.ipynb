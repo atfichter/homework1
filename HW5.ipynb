{
  "nbformat": 4,
  "nbformat_minor": 0,
  "metadata": {
    "colab": {
      "provenance": [],
      "include_colab_link": true
    },
    "kernelspec": {
      "name": "python3",
      "display_name": "Python 3"
    },
    "language_info": {
      "name": "python"
    }
  },
  "cells": [
    {
      "cell_type": "markdown",
      "metadata": {
        "id": "view-in-github",
        "colab_type": "text"
      },
      "source": [
        "<a href=\"https://colab.research.google.com/github/atfichter/homework1/blob/main/HW5.ipynb\" target=\"_parent\"><img src=\"https://colab.research.google.com/assets/colab-badge.svg\" alt=\"Open In Colab\"/></a>"
      ]
    },
    {
      "cell_type": "markdown",
      "source": [
        "# Part 0\n",
        "\n",
        "Download the following files:\n",
        "\n",
        "[Titanic Full](https://drive.google.com/file/d/1jv3Ctntzb07jqmbfTFKZeS699j0jBjjE/view?usp=share_link)\n",
        "\n",
        "[Titanic Training](https://drive.google.com/file/d/1WNatBun5NcGLtZrzBgb15ima4Euwep9B/view?usp=share_link)\n",
        "\n",
        "[Titanic Test](https://drive.google.com/file/d/1T0XwZ7VRqY5tAarbdvLEGuYCC4fVR0BY/view?usp=share_link)\n",
        "\n",
        "Load the three dataframes into memory, naming them titanic, titanic_train, and titanic_test.\n",
        "\n",
        "This exercise will be auto-graded, so please make sure to follow the instructions **exactly**."
      ],
      "metadata": {
        "id": "C3dpW27oAKE1"
      }
    },
    {
      "cell_type": "code",
      "source": [],
      "metadata": {
        "id": "1ItvVdADEnux"
      },
      "execution_count": null,
      "outputs": []
    },
    {
      "cell_type": "markdown",
      "source": [
        "# Part 1\n",
        "\n",
        "Write code that takes `titanic` and uses pd.get_dummies() to one-hot encode the \"Sex\" column, and add those columns to the titanic dataframe. Print the head of the new dataframe. Once we are done with this step, we won't use the `titanic` dataframe for anything else."
      ],
      "metadata": {
        "id": "IkKRKelyAr5L"
      }
    },
    {
      "cell_type": "code",
      "source": [],
      "metadata": {
        "id": "qUtwMZGRBlli"
      },
      "execution_count": null,
      "outputs": []
    },
    {
      "cell_type": "markdown",
      "source": [
        "# Part 2\n",
        "\n",
        "Train a [decision tree](https://scikit-learn.org/stable/modules/generated/sklearn.tree.DecisionTreeClassifier.html) using titanic_train. Print out the % accuracy of running the `predict()` function over `titanic_train[\"Survived\"]`. (Basically, we're predicting the decision tree's accuracy on the training set.)\n",
        "\n",
        "**For all classifiers, you must include the argument random_state=0 upon initilzation, or the auto-grader won't work. This will result in a 10% penalty.**"
      ],
      "metadata": {
        "id": "K2fhp_QVBmHq"
      }
    },
    {
      "cell_type": "code",
      "source": [],
      "metadata": {
        "id": "ou9N1PN3Cgkh"
      },
      "execution_count": null,
      "outputs": []
    },
    {
      "cell_type": "markdown",
      "source": [
        "# Part 3\n",
        "\n",
        "Print out the trained decision trees accuracy on the test set."
      ],
      "metadata": {
        "id": "9f4mvuMZCg5b"
      }
    },
    {
      "cell_type": "code",
      "source": [],
      "metadata": {
        "id": "TIOLRofqCl-L"
      },
      "execution_count": null,
      "outputs": []
    },
    {
      "cell_type": "markdown",
      "source": [
        "# Part 4\n",
        "\n",
        "Going forward, you will not need titanic_test for anything.\n",
        "\n",
        "Using [this function](https://scikit-learn.org/stable/modules/generated/sklearn.model_selection.cross_val_score.html), print out the cross-val score for your decision tree with k=10 using **only the training set**. This will be an array of ten numbers."
      ],
      "metadata": {
        "id": "31oDnUr6CmSi"
      }
    },
    {
      "cell_type": "code",
      "source": [],
      "metadata": {
        "id": "-yEaaH45DJMY"
      },
      "execution_count": null,
      "outputs": []
    },
    {
      "cell_type": "markdown",
      "source": [
        "# Part 5\n",
        "\n",
        "Print out the ten-fold cross-valdiation results for a [support vector machine](https://scikit-learn.org/stable/modules/generated/sklearn.svm.SVC.html) over the training set."
      ],
      "metadata": {
        "id": "QABm92UvDMY5"
      }
    },
    {
      "cell_type": "code",
      "source": [],
      "metadata": {
        "id": "cPGZ8aK0Dx6s"
      },
      "execution_count": null,
      "outputs": []
    },
    {
      "cell_type": "markdown",
      "source": [
        "# Part 5\n",
        "\n",
        "Print out the ten-fold cross-valdiation results for a [random forest](https://scikit-learn.org/stable/modules/generated/sklearn.ensemble.RandomForestClassifier.html) over the training set."
      ],
      "metadata": {
        "id": "o0OlbaBbDyJ2"
      }
    },
    {
      "cell_type": "code",
      "source": [],
      "metadata": {
        "id": "4oPzotUpD4TR"
      },
      "execution_count": null,
      "outputs": []
    }
  ]
}